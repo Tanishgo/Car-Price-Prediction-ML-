{
  "cells": [
    {
      "cell_type": "markdown",
      "metadata": {
        "id": "view-in-github",
        "colab_type": "text"
      },
      "source": [
        "<a href=\"https://colab.research.google.com/github/Tanishgo/Car-Price-Prediction-ML-/blob/main/Untitled15.ipynb\" target=\"_parent\"><img src=\"https://colab.research.google.com/assets/colab-badge.svg\" alt=\"Open In Colab\"/></a>"
      ]
    },
    {
      "cell_type": "code",
      "execution_count": 7,
      "metadata": {
        "id": "O_8Y3XCQ21Lu"
      },
      "outputs": [],
      "source": [
        "!pip install streamlit -q\n"
      ]
    },
    {
      "cell_type": "code",
      "source": [
        "!pip install pyngrok"
      ],
      "metadata": {
        "id": "181XoUHTXsNP",
        "colab": {
          "base_uri": "https://localhost:8080/"
        },
        "outputId": "ecbb960d-33b6-4cca-b448-79f420878685"
      },
      "execution_count": 8,
      "outputs": [
        {
          "output_type": "stream",
          "name": "stdout",
          "text": [
            "Requirement already satisfied: pyngrok in /usr/local/lib/python3.10/dist-packages (7.1.6)\n",
            "Requirement already satisfied: PyYAML>=5.1 in /usr/local/lib/python3.10/dist-packages (from pyngrok) (6.0.1)\n"
          ]
        }
      ]
    },
    {
      "cell_type": "code",
      "execution_count": 9,
      "metadata": {
        "colab": {
          "base_uri": "https://localhost:8080/"
        },
        "id": "GmVSIE2V8KRo",
        "outputId": "4445222f-f8dd-475d-b11b-4601e519339e"
      },
      "outputs": [
        {
          "output_type": "stream",
          "name": "stdout",
          "text": [
            "Overwriting app.py\n"
          ]
        }
      ],
      "source": [
        "%%writefile app.py\n",
        "import pandas as pd\n",
        "import numpy as np\n",
        "import streamlit as st\n",
        "import pickle as pk\n",
        "\n",
        "model = pk.load(open('/content/Car_Predict1(1).pkl','rb'))\n",
        "st.header('Car Price Prediction')\n",
        "car_data = pd.read_csv('/content/Quikr_car.csv')\n",
        "\n",
        "\n",
        "car_data['Name'] =  car_data['Name'].str.split(' ').str.slice(0,3).str.join(' ')\n",
        "car_data['Price'] = car_data['Price'].str.replace(',','').astype(int)\n",
        "car_data['Year'] = car_data['Year'].astype(int)\n",
        "car_data['Kms_driven'] = car_data['Kms_driven'].str.split(' ').str.slice(0,1).str.join('')\n",
        "\n",
        "Comp = st.selectbox('Select Car Brand',car_data['Company'].unique())\n",
        "Type = st.selectbox('Select Car ',car_data['Name'].unique())\n",
        "Year = st.slider('Select Car Manufacturing Year',2000,2024)\n",
        "Driven = st.slider('Number of Kms Driven',10,2000000)\n",
        "Fuel_Type = st.selectbox('Fuel Type',car_data['Fuel_type'].unique())\n",
        "\n",
        "list = [1]\n",
        "for i in range(2,1033):\n",
        "    list.append(i)\n",
        "\n",
        "\n",
        "gg= [1]\n",
        "for i in range(2,26):\n",
        "  gg.append(i)\n",
        "\n",
        "if st.button(\"Predict\"):\n",
        "   # Add the missing column to the DataFrame, even if it's just a dummy value\n",
        "  data = pd.DataFrame([[Type,Comp,Year,Driven,Fuel_Type]],columns = ['Name','Company','Year','Kms_driven','Fuel_type'])\n",
        "\n",
        "\n",
        "  car_price = model.predict(data)\n",
        "  bb = int(car_price)\n",
        "  st.markdown(\"Expected Car Price is: \"+str(bb))\n",
        "\n"
      ]
    },
    {
      "cell_type": "code",
      "source": [
        "from pyngrok import ngrok"
      ],
      "metadata": {
        "id": "pkcqDD-HagLA"
      },
      "execution_count": 10,
      "outputs": []
    },
    {
      "cell_type": "code",
      "source": [
        "ngrok.set_auth_token(\"2imMLUfFfDc9ovyuJXOuKTG5Ogy_2G5b8BCeryvizhWx5rwyo\")"
      ],
      "metadata": {
        "id": "sqK9rgYtcg1r"
      },
      "execution_count": 11,
      "outputs": []
    },
    {
      "cell_type": "code",
      "source": [
        "!nohup streamlit run app.py --server.port 8000 &\n",
        "url = ngrok.connect(8000, bind_tls=True)  # Specify the port directly and enable TLS\n",
        "print(url)"
      ],
      "metadata": {
        "colab": {
          "base_uri": "https://localhost:8080/"
        },
        "id": "IQNfae6gd_Ov",
        "outputId": "59ee9fd5-2868-4988-f9a3-40c2b656facd"
      },
      "execution_count": 12,
      "outputs": [
        {
          "output_type": "stream",
          "name": "stdout",
          "text": [
            "nohup: appending output to 'nohup.out'\n",
            "NgrokTunnel: \"https://ca88-34-138-246-95.ngrok-free.app\" -> \"http://localhost:8000\"\n"
          ]
        }
      ]
    }
  ],
  "metadata": {
    "colab": {
      "provenance": [],
      "authorship_tag": "ABX9TyNPEJ9xe8hzMMpFPq00VUJC",
      "include_colab_link": true
    },
    "kernelspec": {
      "display_name": "Python 3",
      "name": "python3"
    },
    "language_info": {
      "name": "python"
    }
  },
  "nbformat": 4,
  "nbformat_minor": 0
}